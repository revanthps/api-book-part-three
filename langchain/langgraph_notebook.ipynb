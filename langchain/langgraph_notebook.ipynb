{
 "cells": [
  {
   "cell_type": "markdown",
   "id": "71051d05",
   "metadata": {},
   "source": [
    "# LangGraph Agent\n",
    "## Without tools|"
   ]
  },
  {
   "cell_type": "markdown",
   "id": "121c2ca3",
   "metadata": {},
   "source": [
    "## Library Imports"
   ]
  },
  {
   "cell_type": "code",
   "execution_count": 1,
   "id": "095c1f03",
   "metadata": {},
   "outputs": [],
   "source": [
    "from langchain_core.messages import HumanMessage\n",
    "from langchain_anthropic import ChatAnthropic\n",
    "from langgraph.checkpoint.memory import MemorySaver\n",
    "from langgraph.graph import END, START, StateGraph, MessagesState\n",
    "import logging\n",
    "from IPython.display import Image, Markdown, display\n",
    "from langchain_core.runnables.graph import CurveStyle,MermaidDrawMethod, NodeStyles"
   ]
  },
  {
   "cell_type": "markdown",
   "id": "2fb06b35",
   "metadata": {},
   "source": [
    "## Configure logging"
   ]
  },
  {
   "cell_type": "code",
   "execution_count": 2,
   "id": "9ff1c6c2",
   "metadata": {},
   "outputs": [],
   "source": [
    "for handler in logging.root.handlers[:]:\n",
    "    logging.root.removeHandler(handler)\n",
    "\n",
    "logging.basicConfig(\n",
    "    filename='langgraph_notebook.log',\n",
    "    level=logging.INFO,\n",
    ")"
   ]
  },
  {
   "cell_type": "markdown",
   "id": "5d08842f",
   "metadata": {},
   "source": [
    "## Configure Agent and Model"
   ]
  },
  {
   "cell_type": "code",
   "execution_count": 3,
   "id": "2b4392b7",
   "metadata": {},
   "outputs": [],
   "source": [
    "model = ChatAnthropic(model=\"claude-3-5-sonnet-20240620\", temperature=0)\n",
    "\n",
    "def call_model(state: MessagesState):\n",
    "    messages = state['messages']\n",
    "    response = model.invoke(messages)\n",
    "    return {\"messages\": [response]}\n",
    "\n",
    "workflow = StateGraph(MessagesState)\n",
    "\n",
    "workflow.add_node(\"agent\", call_model)\n",
    "\n",
    "workflow.add_edge(START, \"agent\")\n",
    "\n",
    "checkpointer = MemorySaver()\n",
    "\n",
    "app = workflow.compile(checkpointer=checkpointer)"
   ]
  },
  {
   "cell_type": "markdown",
   "id": "77fcf9d0",
   "metadata": {},
   "source": [
    "## Visualize the Graph"
   ]
  },
  {
   "cell_type": "code",
   "execution_count": 5,
   "id": "374fd329",
   "metadata": {},
   "outputs": [
    {
     "data": {
      "image/png": "[encoded data removed]",
      "text/plain": [
       "<IPython.core.display.Image object>"
      ]
     },
     "metadata": {},
     "output_type": "display_data"
    }
   ],
   "source": [
    "display(\n",
    "    Image(\n",
    "        app.get_graph().draw_mermaid_png(\n",
    "            draw_method=MermaidDrawMethod.API,\n",
    "        )\n",
    "    )\n",
    ")"
   ]
  },
  {
   "cell_type": "markdown",
   "id": "8dbbc175",
   "metadata": {},
   "source": [
    "## Chat with the Agent"
   ]
  },
  {
   "cell_type": "code",
   "execution_count": 6,
   "id": "3814096f",
   "metadata": {},
   "outputs": [
    {
     "data": {
      "text/markdown": [
       "Joe Montana played for two NFL teams during his professional football career:\n",
       "\n",
       "1. San Francisco 49ers (1979-1992): Montana spent the majority of his career with the 49ers, where he became a legend and won four Super Bowl championships.\n",
       "\n",
       "2. Kansas City Chiefs (1993-1994): After being traded by the 49ers, Montana played his final two NFL seasons with the Chiefs.\n",
       "\n",
       "Before his professional career, Montana played college football for the University of Notre Dame from 1975 to 1978."
      ],
      "text/plain": [
       "<IPython.core.display.Markdown object>"
      ]
     },
     "metadata": {},
     "output_type": "display_data"
    }
   ],
   "source": [
    "final_state = app.invoke(\n",
    "    {\"messages\": [HumanMessage(content=\"What teams did Joe Montana play for?\")]},\n",
    "    config={\"configurable\": {\"thread_id\": 99}}\n",
    ")\n",
    "display(Markdown(final_state[\"messages\"][-1].content))"
   ]
  },
  {
   "cell_type": "code",
   "execution_count": 7,
   "id": "1825bc19",
   "metadata": {},
   "outputs": [
    {
     "data": {
      "text/markdown": [
       "I apologize, but I don't have any specific information about leagues in a fantasy football platform called \"SportsWorldCentral\". Fantasy football platforms can vary widely in their league structures and offerings, and I'm not familiar with this particular one. If this is a real platform, you may want to check their official website or documentation for accurate information about their league types and structures. If you have more general questions about fantasy football leagues, I'd be happy to help with those."
      ],
      "text/plain": [
       "<IPython.core.display.Markdown object>"
      ]
     },
     "metadata": {},
     "output_type": "display_data"
    }
   ],
   "source": [
    "final_state = app.invoke(\n",
    "    {\"messages\": [HumanMessage(content=\"What are the leagues in the SportsWorldCentral fantasy football platform?\")]},\n",
    "    config={\"configurable\": {\"thread_id\": 99}}\n",
    ")\n",
    "display(Markdown(final_state[\"messages\"][-1].content))"
   ]
  },
  {
   "cell_type": "code",
   "execution_count": null,
   "id": "ed2a7005",
   "metadata": {},
   "outputs": [],
   "source": []
  }
 ],
 "metadata": {
  "kernelspec": {
   "display_name": "Python 3",
   "language": "python",
   "name": "python3"
  },
  "language_info": {
   "codemirror_mode": {
    "name": "ipython",
    "version": 3
   },
   "file_extension": ".py",
   "mimetype": "text/x-python",
   "name": "python",
   "nbconvert_exporter": "python",
   "pygments_lexer": "ipython3",
   "version": "3.12.1"
  }
 },
 "nbformat": 4,
 "nbformat_minor": 5
}
